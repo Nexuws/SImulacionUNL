{
 "cells": [
  {
   "cell_type": "markdown",
   "metadata": {},
   "source": [
    "xk+1=(a * x0 +c)mod m\n",
    "\n",
    "Donde: \n",
    "\n",
    "    a es el multiplicador(enteros no negativos)\n",
    "    c es el incremento (enteros no negativos)\n",
    "    m es el modo (enteros no negativos)\n",
    "    x0 es el valor inicial (semilla o enteros no negativos)\n",
    "\n",
    "*Nota: El exito depende de que M sea muy grande*"
   ]
  },
  {
   "cell_type": "code",
   "execution_count": 142,
   "metadata": {},
   "outputs": [],
   "source": [
    "a =2\n",
    "c =3\n",
    "m=5\n",
    "x0=10"
   ]
  },
  {
   "cell_type": "code",
   "execution_count": 143,
   "metadata": {},
   "outputs": [],
   "source": [
    "import numpy as np"
   ]
  },
  {
   "cell_type": "code",
   "execution_count": 144,
   "metadata": {},
   "outputs": [
    {
     "data": {
      "text/plain": [
       "3"
      ]
     },
     "execution_count": 144,
     "metadata": {},
     "output_type": "execute_result"
    }
   ],
   "source": [
    "#solo genera un numero\n",
    "xk=np.mod((a*x0 + c), m)\n",
    "xk"
   ]
  },
  {
   "cell_type": "markdown",
   "metadata": {},
   "source": []
  },
  {
   "cell_type": "code",
   "execution_count": 145,
   "metadata": {},
   "outputs": [],
   "source": [
    "import numpy as np\n",
    "#enviamos la cantidad que se desea generar\n",
    "def GCL(n):\n",
    "    a =2\n",
    "    c =3\n",
    "    m=50000\n",
    "    xk=10 #semilla\n",
    "    for i in range(0, n):\n",
    "        #xk=modulo((a*xk +c) dividiendo para m)\n",
    "        xk=np.mod((a*xk + c),m)\n",
    "        print(\"GENERADOR_CONGRUENTE_LINEAL: \", xk)\n",
    "        print(\"-----------------\")\n",
    "        u=xk/m\n",
    "        print(\"DISTRIBUCION_UNIFORME: \", u)\n",
    "        print(\"-----------------\")\n",
    "    "
   ]
  },
  {
   "cell_type": "code",
   "execution_count": 146,
   "metadata": {},
   "outputs": [
    {
     "name": "stdout",
     "output_type": "stream",
     "text": [
      "GENERADOR_CONGRUENTE_LINEAL:  23\n",
      "-----------------\n",
      "DISTRIBUCION_UNIFORME:  0.00046\n",
      "-----------------\n",
      "GENERADOR_CONGRUENTE_LINEAL:  49\n",
      "-----------------\n",
      "DISTRIBUCION_UNIFORME:  0.00098\n",
      "-----------------\n",
      "GENERADOR_CONGRUENTE_LINEAL:  101\n",
      "-----------------\n",
      "DISTRIBUCION_UNIFORME:  0.00202\n",
      "-----------------\n",
      "GENERADOR_CONGRUENTE_LINEAL:  205\n",
      "-----------------\n",
      "DISTRIBUCION_UNIFORME:  0.0041\n",
      "-----------------\n",
      "GENERADOR_CONGRUENTE_LINEAL:  413\n",
      "-----------------\n",
      "DISTRIBUCION_UNIFORME:  0.00826\n",
      "-----------------\n",
      "GENERADOR_CONGRUENTE_LINEAL:  829\n",
      "-----------------\n",
      "DISTRIBUCION_UNIFORME:  0.01658\n",
      "-----------------\n",
      "GENERADOR_CONGRUENTE_LINEAL:  1661\n",
      "-----------------\n",
      "DISTRIBUCION_UNIFORME:  0.03322\n",
      "-----------------\n",
      "GENERADOR_CONGRUENTE_LINEAL:  3325\n",
      "-----------------\n",
      "DISTRIBUCION_UNIFORME:  0.0665\n",
      "-----------------\n",
      "GENERADOR_CONGRUENTE_LINEAL:  6653\n",
      "-----------------\n",
      "DISTRIBUCION_UNIFORME:  0.13306\n",
      "-----------------\n",
      "GENERADOR_CONGRUENTE_LINEAL:  13309\n",
      "-----------------\n",
      "DISTRIBUCION_UNIFORME:  0.26618\n",
      "-----------------\n",
      "GENERADOR_CONGRUENTE_LINEAL:  26621\n",
      "-----------------\n",
      "DISTRIBUCION_UNIFORME:  0.53242\n",
      "-----------------\n",
      "GENERADOR_CONGRUENTE_LINEAL:  3245\n",
      "-----------------\n",
      "DISTRIBUCION_UNIFORME:  0.0649\n",
      "-----------------\n",
      "GENERADOR_CONGRUENTE_LINEAL:  6493\n",
      "-----------------\n",
      "DISTRIBUCION_UNIFORME:  0.12986\n",
      "-----------------\n",
      "GENERADOR_CONGRUENTE_LINEAL:  12989\n",
      "-----------------\n",
      "DISTRIBUCION_UNIFORME:  0.25978\n",
      "-----------------\n",
      "GENERADOR_CONGRUENTE_LINEAL:  25981\n",
      "-----------------\n",
      "DISTRIBUCION_UNIFORME:  0.51962\n",
      "-----------------\n",
      "GENERADOR_CONGRUENTE_LINEAL:  1965\n",
      "-----------------\n",
      "DISTRIBUCION_UNIFORME:  0.0393\n",
      "-----------------\n",
      "GENERADOR_CONGRUENTE_LINEAL:  3933\n",
      "-----------------\n",
      "DISTRIBUCION_UNIFORME:  0.07866\n",
      "-----------------\n",
      "GENERADOR_CONGRUENTE_LINEAL:  7869\n",
      "-----------------\n",
      "DISTRIBUCION_UNIFORME:  0.15738\n",
      "-----------------\n",
      "GENERADOR_CONGRUENTE_LINEAL:  15741\n",
      "-----------------\n",
      "DISTRIBUCION_UNIFORME:  0.31482\n",
      "-----------------\n",
      "GENERADOR_CONGRUENTE_LINEAL:  31485\n",
      "-----------------\n",
      "DISTRIBUCION_UNIFORME:  0.6297\n",
      "-----------------\n"
     ]
    }
   ],
   "source": [
    "GCL(20)"
   ]
  }
 ],
 "metadata": {
  "kernelspec": {
   "display_name": "Python 3.9.12 ('base')",
   "language": "python",
   "name": "python3"
  },
  "language_info": {
   "codemirror_mode": {
    "name": "ipython",
    "version": 3
   },
   "file_extension": ".py",
   "mimetype": "text/x-python",
   "name": "python",
   "nbconvert_exporter": "python",
   "pygments_lexer": "ipython3",
   "version": "3.9.12"
  },
  "orig_nbformat": 4,
  "vscode": {
   "interpreter": {
    "hash": "56f0a052b5145158b65fe059615b5b84611ea6ee8acaf038322c147f53cacef6"
   }
  }
 },
 "nbformat": 4,
 "nbformat_minor": 2
}
