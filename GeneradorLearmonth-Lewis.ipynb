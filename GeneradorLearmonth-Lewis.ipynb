{
 "cells": [
  {
   "cell_type": "code",
   "execution_count": 6,
   "metadata": {},
   "outputs": [],
   "source": [
    "import numpy as np\n",
    "#enviamos la cantidad que se desea generar\n",
    "def GCL(n):\n",
    "    a =75\n",
    "    c =0\n",
    "    m=(2**31)-1\n",
    "    xk=10 #semilla\n",
    "    for i in range(0, n):\n",
    "        #xk=modulo((a*xk +c) dividiendo para m)\n",
    "        xk=np.mod((a*xk + c),m)\n",
    "        u=xk/m\n",
    "        print(\"DISTRIBUCION_UNIFORME: \", u)\n",
    "    "
   ]
  },
  {
   "cell_type": "code",
   "execution_count": 7,
   "metadata": {},
   "outputs": [
    {
     "name": "stdout",
     "output_type": "stream",
     "text": [
      "DISTRIBUCION_UNIFORME:  3.4924596564343477e-07\n",
      "DISTRIBUCION_UNIFORME:  2.6193447423257608e-05\n",
      "DISTRIBUCION_UNIFORME:  0.0019645085567443206\n",
      "DISTRIBUCION_UNIFORME:  0.14733814175582405\n",
      "DISTRIBUCION_UNIFORME:  0.05036063168680325\n",
      "DISTRIBUCION_UNIFORME:  0.7770473765102436\n",
      "DISTRIBUCION_UNIFORME:  0.27855323826826794\n",
      "DISTRIBUCION_UNIFORME:  0.8914928701200955\n",
      "DISTRIBUCION_UNIFORME:  0.861965259007162\n",
      "DISTRIBUCION_UNIFORME:  0.6473944255371552\n",
      "DISTRIBUCION_UNIFORME:  0.5545819152866406\n",
      "DISTRIBUCION_UNIFORME:  0.5936436464980448\n",
      "DISTRIBUCION_UNIFORME:  0.5232734873533591\n",
      "DISTRIBUCION_UNIFORME:  0.24551155150193327\n",
      "DISTRIBUCION_UNIFORME:  0.4133663626449957\n",
      "DISTRIBUCION_UNIFORME:  0.0024771983746798704\n",
      "DISTRIBUCION_UNIFORME:  0.18578987810099026\n",
      "DISTRIBUCION_UNIFORME:  0.9342408575742696\n",
      "DISTRIBUCION_UNIFORME:  0.06806431807021812\n",
      "DISTRIBUCION_UNIFORME:  0.10482385526635864\n",
      "DISTRIBUCION_UNIFORME:  0.8617891449768977\n",
      "DISTRIBUCION_UNIFORME:  0.6341858732673273\n",
      "DISTRIBUCION_UNIFORME:  0.5639404950495532\n",
      "DISTRIBUCION_UNIFORME:  0.2955371287164917\n",
      "DISTRIBUCION_UNIFORME:  0.16528465373687662\n",
      "DISTRIBUCION_UNIFORME:  0.39634903026574714\n",
      "DISTRIBUCION_UNIFORME:  0.7261772699310338\n",
      "DISTRIBUCION_UNIFORME:  0.46329524482753837\n",
      "DISTRIBUCION_UNIFORME:  0.7471433620653782\n",
      "DISTRIBUCION_UNIFORME:  0.03575215490337096\n"
     ]
    }
   ],
   "source": [
    "GCL(30)"
   ]
  }
 ],
 "metadata": {
  "kernelspec": {
   "display_name": "Python 3.9.12 ('base')",
   "language": "python",
   "name": "python3"
  },
  "language_info": {
   "codemirror_mode": {
    "name": "ipython",
    "version": 3
   },
   "file_extension": ".py",
   "mimetype": "text/x-python",
   "name": "python",
   "nbconvert_exporter": "python",
   "pygments_lexer": "ipython3",
   "version": "3.9.12"
  },
  "orig_nbformat": 4,
  "vscode": {
   "interpreter": {
    "hash": "56f0a052b5145158b65fe059615b5b84611ea6ee8acaf038322c147f53cacef6"
   }
  }
 },
 "nbformat": 4,
 "nbformat_minor": 2
}
